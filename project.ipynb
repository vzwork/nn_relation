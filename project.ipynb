{
 "cells": [
  {
   "cell_type": "markdown",
   "id": "d4488a8e",
   "metadata": {},
   "source": [
    "# Description"
   ]
  },
  {
   "cell_type": "markdown",
   "id": "3d0992f7",
   "metadata": {},
   "source": [
    "There are two reasons for this project:\n",
    "- I was frusturated with feed-forward neural network's ability to recognize patterns\n",
    "- I wanted to explore how well NN can predict mathematical patterns\n",
    "\n",
    "Small goal:\n",
    "- Get a better understanding of how to teach AI math"
   ]
  },
  {
   "cell_type": "markdown",
   "id": "57549e3c",
   "metadata": {},
   "source": [
    "# Data Generation"
   ]
  },
  {
   "cell_type": "code",
   "execution_count": 1,
   "id": "1670a23c",
   "metadata": {},
   "outputs": [],
   "source": [
    "RANDOM_STATE = 2023"
   ]
  },
  {
   "cell_type": "code",
   "execution_count": 2,
   "id": "53762878",
   "metadata": {},
   "outputs": [],
   "source": [
    "import numpy as np\n",
    "import matplotlib.pyplot as plt\n",
    "\n",
    "import torch\n",
    "import torch.nn as nn\n",
    "\n",
    "from sklearn.datasets import make_regression\n",
    "from sklearn.metrics import accuracy_score\n",
    "\n",
    "import tensorflow as tf"
   ]
  },
  {
   "cell_type": "code",
   "execution_count": 3,
   "id": "a3669212",
   "metadata": {},
   "outputs": [],
   "source": [
    "import math\n",
    "import random\n",
    "random.seed(RANDOM_STATE)"
   ]
  },
  {
   "cell_type": "markdown",
   "id": "f55c4ce5",
   "metadata": {},
   "source": [
    "<div style=\"background: Aquamarine; padding: 1rem; border-radius: 1rem;\">\n",
    "    <div style=\"background: #555; color: white; padding: 1rem;\">\n",
    "        What families of mathematical modification of relations exist?\n",
    "    </div>\n",
    "    <div style=\"background: #999; color: white; padding: 1rem;\">\n",
    "        <ul>\n",
    "            <li>Power Functions (polynomials)</li>\n",
    "            <li>Trigonometric Functions</li>\n",
    "            <li>Exponential Functions</li>\n",
    "            <li>Logarithmic Functions</li>\n",
    "            <li>Rational Functions</li>\n",
    "            <li>Root Functions (aren't they polynomials)</li>\n",
    "            <li>etc... (handling those for now will be impressive enough</li>\n",
    "        </ul>\n",
    "    </div>\n",
    "</div>"
   ]
  },
  {
   "cell_type": "markdown",
   "id": "8d664530",
   "metadata": {},
   "source": [
    "<div style=\"background: LemonChiffon; padding: 1rem; border-radius: 1rem;\">\n",
    "    So, next I want to create function that can generate:\n",
    "    <ul>\n",
    "        <li>Power functions (x^2) (x^3)</li>\n",
    "        <li>Trigonometric Function sin(x) (not cos(x), because it is sin(x) with phase shift)</li>\n",
    "    </ul>\n",
    "    There are a lot more functions. But we can start small. <br/>\n",
    "</div>"
   ]
  },
  {
   "cell_type": "markdown",
   "id": "45328f7a",
   "metadata": {},
   "source": [
    "<div style=\"background: LemonChiffon; padding: 1rem; border-radius: 1rem;\">\n",
    "    As of right now I am unsure of what NN architecture to use. I want to try using convolutional network. The way I (human) recognize a trigonometric function, is by looking at the limits. Perhaps CNN can do the same.\n",
    "</div>"
   ]
  },
  {
   "cell_type": "markdown",
   "id": "d356edf9",
   "metadata": {},
   "source": [
    "- functions\n",
    "- scaling\n",
    "- resolution adjustement\n",
    "- data generator\n",
    "- training\n",
    "- results\n"
   ]
  },
  {
   "cell_type": "markdown",
   "id": "55e28cc7",
   "metadata": {},
   "source": [
    "### functions"
   ]
  },
  {
   "cell_type": "code",
   "execution_count": 4,
   "id": "f106f0ef",
   "metadata": {},
   "outputs": [],
   "source": [
    "def pow2(size):\n",
    "    x = np.array(range(size))\n",
    "    offset_to_center_quadratic = size // 2\n",
    "    y = (x - offset_to_center_quadratic) ** 2\n",
    "    return x, y"
   ]
  },
  {
   "cell_type": "code",
   "execution_count": 5,
   "id": "342d9a33",
   "metadata": {},
   "outputs": [],
   "source": [
    "def pow3(size):\n",
    "    x = np.array(range(size))\n",
    "    offset_to_center_cubic = size // 2\n",
    "    y = (x - offset_to_center_cubic) ** 3\n",
    "    return x, y"
   ]
  },
  {
   "cell_type": "code",
   "execution_count": 6,
   "id": "0e460209",
   "metadata": {},
   "outputs": [],
   "source": [
    "def trig(size):\n",
    "    # lets have specifically 3 periods\n",
    "    N_PERIODS = 3\n",
    "    x = np.array(range(size))\n",
    "    three_periods = N_PERIODS * 2 * math.pi\n",
    "    # random phase shift\n",
    "    phase_shift = size * random.random() / N_PERIODS\n",
    "    y = np.sin(three_periods / size * (x + phase_shift))\n",
    "    return x, y"
   ]
  },
  {
   "cell_type": "code",
   "execution_count": 7,
   "id": "a08a2866",
   "metadata": {},
   "outputs": [
    {
     "data": {
      "image/png": "[encoded data removed]",
      "text/plain": [
       "<Figure size 200x100 with 1 Axes>"
      ]
     },
     "metadata": {},
     "output_type": "display_data"
    },
    {
     "data": {
      "image/png": "[encoded data removed]",
      "text/plain": [
       "<Figure size 200x100 with 1 Axes>"
      ]
     },
     "metadata": {},
     "output_type": "display_data"
    },
    {
     "data": {
      "image/png": "[encoded data removed]",
      "text/plain": [
       "<Figure size 200x100 with 1 Axes>"
      ]
     },
     "metadata": {},
     "output_type": "display_data"
    }
   ],
   "source": [
    "x, y = pow2(100)\n",
    "\n",
    "plt.figure(figsize=(2, 1))\n",
    "plt.plot(x, y)\n",
    "plt.title('pow2')\n",
    "plt.show()\n",
    "\n",
    "\n",
    "x, y = pow3(100)\n",
    "\n",
    "plt.figure(figsize=(2, 1))\n",
    "plt.plot(x, y)\n",
    "plt.title('pow3')\n",
    "plt.show()\n",
    "\n",
    "\n",
    "x, y = trig(100)\n",
    "\n",
    "plt.figure(figsize=(2, 1))\n",
    "plt.plot(x, y)\n",
    "plt.title('trig')\n",
    "plt.show()"
   ]
  },
  {
   "cell_type": "markdown",
   "id": "47143c35",
   "metadata": {},
   "source": [
    "### scaling"
   ]
  },
  {
   "cell_type": "code",
   "execution_count": 8,
   "id": "93806f32",
   "metadata": {},
   "outputs": [],
   "source": [
    "def rescale(arr):\n",
    "    # Find the minimum and maximum values in the array\n",
    "    min_value = np.min(arr)\n",
    "    max_value = np.max(arr)\n",
    "\n",
    "    # Rescale the array to the range [0, 1]\n",
    "    rescaled_arr = (arr - min_value) / (max_value - min_value)\n",
    "\n",
    "    return rescaled_arr"
   ]
  },
  {
   "cell_type": "code",
   "execution_count": 9,
   "id": "ff172148",
   "metadata": {},
   "outputs": [
    {
     "data": {
      "image/png": "[encoded data removed]",
      "text/plain": [
       "<Figure size 200x100 with 1 Axes>"
      ]
     },
     "metadata": {},
     "output_type": "display_data"
    },
    {
     "data": {
      "image/png": "[encoded data removed]",
      "text/plain": [
       "<Figure size 200x100 with 1 Axes>"
      ]
     },
     "metadata": {},
     "output_type": "display_data"
    },
    {
     "data": {
      "image/png": "[encoded data removed]",
      "text/plain": [
       "<Figure size 200x100 with 1 Axes>"
      ]
     },
     "metadata": {},
     "output_type": "display_data"
    }
   ],
   "source": [
    "x, y = pow2(100)\n",
    "x = rescale(x)\n",
    "y = rescale(y)\n",
    "\n",
    "plt.figure(figsize=(2, 1))\n",
    "plt.plot(x, y)\n",
    "plt.title('pow2')\n",
    "plt.show()\n",
    "\n",
    "\n",
    "x, y = pow3(100)\n",
    "x = rescale(x)\n",
    "y = rescale(y)\n",
    "\n",
    "plt.figure(figsize=(2, 1))\n",
    "plt.plot(x, y)\n",
    "plt.title('pow3')\n",
    "plt.show()\n",
    "\n",
    "\n",
    "x, y = trig(100)\n",
    "x = rescale(x)\n",
    "y = rescale(y)\n",
    "\n",
    "plt.figure(figsize=(2, 1))\n",
    "plt.plot(x, y)\n",
    "plt.title('trig')\n",
    "plt.show()"
   ]
  },
  {
   "cell_type": "markdown",
   "id": "1ede6bf1",
   "metadata": {},
   "source": [
    "### resolution adjustement"
   ]
  },
  {
   "cell_type": "markdown",
   "id": "09269d23",
   "metadata": {},
   "source": [
    "- select size of matrix\n",
    "- create an empty matrix\n",
    "- customize conversion function accordingly\n",
    "- mark proper coordinates as visited"
   ]
  },
  {
   "cell_type": "code",
   "execution_count": 10,
   "id": "b5479827",
   "metadata": {},
   "outputs": [],
   "source": [
    "def to_matrix_dimension(x, y):\n",
    "    # when rounding to whole indexes, some values may get squashed\n",
    "    # use SIZE_MATRIX - 1 and round\n",
    "    SIZE_MATRIX = 100\n",
    "    matrix = np.zeros((SIZE_MATRIX, SIZE_MATRIX), dtype=int)\n",
    "    \n",
    "    def scale_resolution(axis):\n",
    "        min_axis = np.min(axis)\n",
    "        max_axis = np.max(axis)\n",
    "        \n",
    "        range_axis = max_axis - min_axis\n",
    "        range_matrix = SIZE_MATRIX - 1\n",
    "        \n",
    "        return  np.round( (axis - min_axis) / range_axis * range_matrix ).astype(int)\n",
    "    \n",
    "    x = scale_resolution(x)\n",
    "    y = scale_resolution(y)\n",
    "    \n",
    "    matrix[x, y] = 1\n",
    "    return matrix"
   ]
  },
  {
   "cell_type": "code",
   "execution_count": 11,
   "id": "eb71ae04",
   "metadata": {},
   "outputs": [
    {
     "data": {
      "text/plain": [
       "(array([0.        , 0.01010101, 0.02020202, 0.03030303, 0.04040404,\n",
       "        0.05050505, 0.06060606, 0.07070707, 0.08080808, 0.09090909]),\n",
       " array([0.41205591, 0.50585019, 0.59943722, 0.68950165, 0.77285288,\n",
       "        0.84653816, 0.90794715, 0.95490442, 0.98574646, 0.9993807 ]))"
      ]
     },
     "execution_count": 11,
     "metadata": {},
     "output_type": "execute_result"
    }
   ],
   "source": [
    "x[:10], y[:10]"
   ]
  },
  {
   "cell_type": "code",
   "execution_count": 12,
   "id": "6ae241d3",
   "metadata": {},
   "outputs": [],
   "source": [
    "m = to_matrix_dimension(x, y)"
   ]
  },
  {
   "cell_type": "code",
   "execution_count": 13,
   "id": "dea72de5",
   "metadata": {},
   "outputs": [
    {
     "data": {
      "image/png": "[encoded data removed]",
      "text/plain": [
       "<Figure size 400x400 with 1 Axes>"
      ]
     },
     "metadata": {},
     "output_type": "display_data"
    }
   ],
   "source": [
    "fig, ax = plt.subplots(figsize=(4, 4))\n",
    "ax.matshow(m)\n",
    "plt.title('computer vision')\n",
    "plt.show()"
   ]
  },
  {
   "cell_type": "markdown",
   "id": "f33ed1f9",
   "metadata": {},
   "source": [
    "Need to increase the number of data points, but matrix conversion is successful, though it is flipped 90 degrees. Because unlike plotting, images are drawn in the fourth quadrant."
   ]
  },
  {
   "cell_type": "markdown",
   "id": "9095abfc",
   "metadata": {},
   "source": [
    "### data generator"
   ]
  },
  {
   "cell_type": "markdown",
   "id": "45779af1",
   "metadata": {},
   "source": [
    "Data generator purpose:\n",
    "- provide us with data from three classes (pow2, pow3, trig)\n",
    "<br/>\n",
    "<br/>\n",
    "\n",
    "in - number of samples\n",
    "\n",
    "out - [[matrix, is_pow2, is_pow3, is_trig], ...]"
   ]
  },
  {
   "cell_type": "code",
   "execution_count": 14,
   "id": "b0aa0bce",
   "metadata": {},
   "outputs": [],
   "source": [
    "def generator(n, n_points):\n",
    "    out = []\n",
    "    for i in range(n):\n",
    "        # pow2, pow3, trig\n",
    "        iv = [0, 0, 0, 0]\n",
    "        selected_class = random.randint(0, 2)\n",
    "        if selected_class == 0:\n",
    "            x, y = pow2(n_points)\n",
    "            iv[1] = 1\n",
    "        if selected_class == 1:\n",
    "            x, y = pow3(n_points)\n",
    "            iv[2] = 1\n",
    "        if selected_class == 2:\n",
    "            x, y = trig(n_points)\n",
    "            iv[3] = 1\n",
    "        iv[0] = to_matrix_dimension(x, y)\n",
    "        out.append(iv)\n",
    "    return out"
   ]
  },
  {
   "cell_type": "code",
   "execution_count": 15,
   "id": "f4638cd1",
   "metadata": {},
   "outputs": [],
   "source": [
    "test = generator(12, 500)"
   ]
  },
  {
   "cell_type": "code",
   "execution_count": 16,
   "id": "a572f1f4",
   "metadata": {},
   "outputs": [
    {
     "data": {
      "image/png": "[encoded data removed]",
      "text/plain": [
       "<Figure size 600x800 with 12 Axes>"
      ]
     },
     "metadata": {},
     "output_type": "display_data"
    }
   ],
   "source": [
    "fig, axs = plt.subplots(4, 3, figsize=(6, 8))\n",
    "x, y = 0, 0\n",
    "for m, a, b, c in test:\n",
    "    axs[y, x].matshow(m)\n",
    "    if a == 1:\n",
    "        title = 'square'\n",
    "    if b == 1:\n",
    "        title = 'cube'\n",
    "    if c == 1:\n",
    "        title = 'trig'\n",
    "    axs[y, x].set_title(title)\n",
    "    axs[y, x].set_xticks([])\n",
    "    axs[y, x].set_yticks([])\n",
    "    if x == 0:\n",
    "        x = 1\n",
    "    elif x == 1:\n",
    "        x = 2\n",
    "    elif x == 2:\n",
    "        x = 0\n",
    "        y += 1"
   ]
  },
  {
   "cell_type": "markdown",
   "id": "ccf616a4",
   "metadata": {},
   "source": [
    "### training"
   ]
  },
  {
   "cell_type": "markdown",
   "id": "52e4c93c",
   "metadata": {},
   "source": [
    "- generate 900 training samples\n",
    "- generate 100 validation samples\n",
    "- try out different Convolutional Networks\n",
    "- convolutional network input [100, 100] matrix\n",
    "- convolutional network output [0, 0, 0] probability of each class\n"
   ]
  },
  {
   "cell_type": "markdown",
   "id": "8ad4b24d",
   "metadata": {},
   "source": [
    "\"I ought to use powers of 2, like a real programmer\""
   ]
  },
  {
   "cell_type": "code",
   "execution_count": 17,
   "id": "4b4e31ca",
   "metadata": {},
   "outputs": [],
   "source": [
    "train = generator(10000, 1000)"
   ]
  },
  {
   "cell_type": "code",
   "execution_count": 18,
   "id": "807f8d3e",
   "metadata": {},
   "outputs": [],
   "source": [
    "valid = generator(1000, 1000)"
   ]
  },
  {
   "cell_type": "code",
   "execution_count": 19,
   "id": "0f9323fe",
   "metadata": {},
   "outputs": [
    {
     "data": {
      "text/plain": [
       "(100, 100)"
      ]
     },
     "execution_count": 19,
     "metadata": {},
     "output_type": "execute_result"
    }
   ],
   "source": [
    "train[0][0].shape"
   ]
  },
  {
   "cell_type": "code",
   "execution_count": 20,
   "id": "28da81f3",
   "metadata": {},
   "outputs": [
    {
     "data": {
      "text/plain": [
       "numpy.ndarray"
      ]
     },
     "execution_count": 20,
     "metadata": {},
     "output_type": "execute_result"
    }
   ],
   "source": [
    "type(train[0][0])"
   ]
  },
  {
   "cell_type": "markdown",
   "id": "df18096c",
   "metadata": {},
   "source": [
    "since input shape is different, we need to customize the last layer."
   ]
  },
  {
   "cell_type": "code",
   "execution_count": 21,
   "id": "e76dc114",
   "metadata": {},
   "outputs": [],
   "source": [
    "X_train = [row[0] for row in train]\n",
    "y_train = [row[1:] for row in train]\n",
    "\n",
    "X_valid = [row[0] for row in valid]\n",
    "y_valid = [row[1:] for row in valid]"
   ]
  },
  {
   "cell_type": "markdown",
   "id": "8c40c7b9",
   "metadata": {},
   "source": [
    "we need to reshape all x inputs to (100, 100, 1)"
   ]
  },
  {
   "cell_type": "code",
   "execution_count": 22,
   "id": "7c84abed",
   "metadata": {},
   "outputs": [],
   "source": [
    "def step(x):\n",
    "    return x.reshape((100, 100, 1))\n",
    "\n",
    "X_train = list(map(step, X_train))\n",
    "X_valid = list(map(step, X_valid))"
   ]
  },
  {
   "cell_type": "code",
   "execution_count": 23,
   "id": "bfe3e23b",
   "metadata": {},
   "outputs": [],
   "source": [
    "X_train = np.array(X_train)\n",
    "y_train = np.array(y_train)\n",
    "\n",
    "X_valid = np.array(X_valid)\n",
    "y_valid = np.array(y_valid)"
   ]
  },
  {
   "cell_type": "code",
   "execution_count": 39,
   "id": "30710b47",
   "metadata": {},
   "outputs": [],
   "source": [
    "backbone = tf.keras.applications.resnet50.ResNet50(\n",
    "    include_top=False,\n",
    "    weights=None,\n",
    "    input_shape=(100, 100, 1)\n",
    ")\n",
    "model = tf.keras.Sequential()\n",
    "model.add(backbone)\n",
    "model.add(tf.keras.layers.GlobalAveragePooling2D())\n",
    "model.add(tf.keras.layers.Flatten())\n",
    "model.add(tf.keras.layers.Dense(3, activation='softmax'))\n",
    "model.compile(optimizer='adam', loss='categorical_crossentropy', metrics=['accuracy'])"
   ]
  },
  {
   "cell_type": "code",
   "execution_count": 41,
   "id": "e85535fa",
   "metadata": {},
   "outputs": [
    {
     "name": "stdout",
     "output_type": "stream",
     "text": [
      "Epoch 1/100\n",
      "625/625 [==============================] - 59s 88ms/step - loss: 0.1473 - accuracy: 0.9882 - val_loss: 9.3645 - val_accuracy: 0.3580\n",
      "Epoch 2/100\n",
      "625/625 [==============================] - 52s 83ms/step - loss: 3.9000e-04 - accuracy: 0.9999 - val_loss: 0.0000e+00 - val_accuracy: 1.0000\n",
      "Epoch 3/100\n",
      "625/625 [==============================] - 52s 82ms/step - loss: 0.0745 - accuracy: 0.9920 - val_loss: 0.0000e+00 - val_accuracy: 1.0000\n",
      "Epoch 4/100\n",
      "625/625 [==============================] - 52s 83ms/step - loss: 0.0798 - accuracy: 0.9981 - val_loss: 6.3181e-08 - val_accuracy: 1.0000\n",
      "Epoch 5/100\n",
      "625/625 [==============================] - 52s 83ms/step - loss: 0.0730 - accuracy: 0.9933 - val_loss: 0.0000e+00 - val_accuracy: 1.0000\n"
     ]
    },
    {
     "data": {
      "text/plain": [
       "<keras.callbacks.History at 0x368d172e0>"
      ]
     },
     "execution_count": 41,
     "metadata": {},
     "output_type": "execute_result"
    }
   ],
   "source": [
    "early_stopping = tf.keras.callbacks.EarlyStopping(\n",
    "    monitor='accuracy',   # Monitor validation loss for improvement\n",
    "    patience=3,          # Number of epochs with no improvement before stopping\n",
    "    restore_best_weights=True  # Restore the best model weights\n",
    ")\n",
    "\n",
    "model.fit(x=X_train, \n",
    "          y=y_train, \n",
    "          batch_size=16,\n",
    "          validation_data=(X_valid, y_valid), \n",
    "          epochs=100, \n",
    "          callbacks=[early_stopping], \n",
    "          verbose=1)"
   ]
  },
  {
   "cell_type": "code",
   "execution_count": 42,
   "id": "1fc65fd5",
   "metadata": {},
   "outputs": [
    {
     "name": "stdout",
     "output_type": "stream",
     "text": [
      "32/32 [==============================] - 3s 60ms/step\n"
     ]
    },
    {
     "data": {
      "text/plain": [
       "1.0"
      ]
     },
     "execution_count": 42,
     "metadata": {},
     "output_type": "execute_result"
    }
   ],
   "source": [
    "z_valid = model.predict(x=X_valid)\n",
    "z_valid_rounded = np.round(z_valid).astype(int)\n",
    "accuracy_score(y_valid, z_valid_rounded)"
   ]
  },
  {
   "cell_type": "code",
   "execution_count": 43,
   "id": "586b457b",
   "metadata": {},
   "outputs": [
    {
     "data": {
      "text/plain": [
       "array([[0, 1, 0],\n",
       "       [0, 1, 0],\n",
       "       [0, 0, 1],\n",
       "       [0, 0, 1],\n",
       "       [0, 0, 1]])"
      ]
     },
     "execution_count": 43,
     "metadata": {},
     "output_type": "execute_result"
    }
   ],
   "source": [
    "z_valid_rounded[:5]"
   ]
  },
  {
   "cell_type": "code",
   "execution_count": 44,
   "id": "eb0d568b",
   "metadata": {},
   "outputs": [
    {
     "data": {
      "text/plain": [
       "array([[0, 1, 0],\n",
       "       [0, 1, 0],\n",
       "       [0, 0, 1],\n",
       "       [0, 0, 1],\n",
       "       [0, 0, 1]])"
      ]
     },
     "execution_count": 44,
     "metadata": {},
     "output_type": "execute_result"
    }
   ],
   "source": [
    "y_valid[:5]"
   ]
  },
  {
   "cell_type": "code",
   "execution_count": 45,
   "id": "44465db9",
   "metadata": {},
   "outputs": [],
   "source": [
    "z_squared = np.sum(z_valid_rounded[:, 0])\n",
    "z_cubed = np.sum(z_valid_rounded[:, 1])\n",
    "z_trig = np.sum(z_valid_rounded[:, 2])\n",
    "\n",
    "y_squared = np.sum(y_valid[:, 0])\n",
    "y_cubed = np.sum(y_valid[:, 1])\n",
    "y_trig = np.sum(y_valid[:, 2])"
   ]
  },
  {
   "cell_type": "code",
   "execution_count": 46,
   "id": "b23bf889",
   "metadata": {},
   "outputs": [],
   "source": [
    "categories = ['y_squared', 'z_squared', 'y_cubed', 'z_cubed', 'y_trig', 'z_trig']\n",
    "values = [y_squared, z_squared, y_cubed, z_cubed, y_trig, z_trig]"
   ]
  },
  {
   "cell_type": "code",
   "execution_count": 47,
   "id": "08f67393",
   "metadata": {},
   "outputs": [
    {
     "data": {
      "image/png": "[encoded data removed]",
      "text/plain": [
       "<Figure size 800x600 with 1 Axes>"
      ]
     },
     "metadata": {},
     "output_type": "display_data"
    }
   ],
   "source": [
    "plt.figure(figsize=(8, 6))  # Optional: Adjust the figure size\n",
    "plt.bar(categories, values, color='blue', alpha=0.7)\n",
    "plt.xlabel('Categories')\n",
    "plt.ylabel('Values')\n",
    "plt.title('Bar Plot Example')\n",
    "plt.xticks(rotation=45)  # Optional: Rotate x-axis labels for better readability\n",
    "plt.grid(axis='y', linestyle='--', alpha=0.7)  # Optional: Add gridlines\n",
    "plt.show()"
   ]
  },
  {
   "cell_type": "code",
   "execution_count": null,
   "id": "3cd6e7c9",
   "metadata": {},
   "outputs": [],
   "source": []
  },
  {
   "cell_type": "code",
   "execution_count": null,
   "id": "1b66a5f5",
   "metadata": {},
   "outputs": [],
   "source": []
  },
  {
   "cell_type": "code",
   "execution_count": null,
   "id": "5f383a54",
   "metadata": {},
   "outputs": [],
   "source": []
  },
  {
   "cell_type": "code",
   "execution_count": null,
   "id": "944a5c02",
   "metadata": {},
   "outputs": [],
   "source": []
  },
  {
   "cell_type": "code",
   "execution_count": null,
   "id": "32ec706e",
   "metadata": {},
   "outputs": [],
   "source": []
  },
  {
   "cell_type": "code",
   "execution_count": null,
   "id": "729d6dd6",
   "metadata": {},
   "outputs": [],
   "source": []
  },
  {
   "cell_type": "code",
   "execution_count": 15,
   "id": "8dcb80c5",
   "metadata": {},
   "outputs": [],
   "source": [
    "# def train_evaluate(net, X_train, y_train, X_valid, y_valid, patience):\n",
    "#     X_train = torch.FloatTensor(X_train.copy())\n",
    "#     y_train = torch.FloatTensor(y_train.copy())\n",
    "#     X_valid = torch.FloatTensor(X_valid.copy())\n",
    "#     y_valid = torch.FloatTensor(y_valid.copy())\n",
    "    \n",
    "#     train_error = []\n",
    "#     valid_error = []\n",
    "#     optimizer = torch.optim.Adam(net.parameters(), lr=0.1)\n",
    "#     optimizer.zero_grad()\n",
    "#     loss = nn.MSELoss()\n",
    "    \n",
    "#     # early stopping\n",
    "#     best_mse = float('inf')\n",
    "#     counter = patience\n",
    "    \n",
    "#     while True:\n",
    "#         net.train()\n",
    "#         z_train = net.forward(X_train).flatten()\n",
    "#         mse_train = loss(z_train, y_train)\n",
    "#         train_error.append(mse_train.item())\n",
    "        \n",
    "#         # learning\n",
    "#         mse_train.backward()\n",
    "#         optimizer.step()\n",
    "        \n",
    "#         with torch.no_grad():\n",
    "#             net.eval()\n",
    "#             z_valid = net.forward(X_valid).flatten()\n",
    "#             mse_valid = loss(z_valid, y_valid)\n",
    "#             valid_error.append(mse_valid.item())\n",
    "        \n",
    "#         # early stopping\n",
    "#         if mse_valid < best_mse:\n",
    "#             best_mse = mse_valid\n",
    "#             counter = patience\n",
    "#         else:\n",
    "#             counter -= 1\n",
    "#         if counter == 0:\n",
    "#             break\n",
    "                \n",
    "#     # visualize\n",
    "#     x = np.arange(len(train_error))\n",
    "#     plt.figure(figsize=(4,2))\n",
    "#     plt.plot(x, train_error, color='green')\n",
    "#     plt.plot(x, valid_error, color='red')\n",
    "#     plt.show()\n",
    "    \n",
    "#     plt.figure(figsize=(4,2))\n",
    "#     plt.scatter(X_train, y_train, color='green')\n",
    "#     plt.scatter(X_valid, z_valid, color='orange')\n",
    "#     plt.show()\n",
    "    \n",
    "#     best_mse = min(valid_error)\n",
    "#     best_rmse = best_mse ** 0.5\n",
    "#     print('Best validation MSE: {:.2f}'.format(best_mse))\n",
    "#     print('Best validation RMSE: {:.2f}'.format(best_rmse))\n",
    "    \n",
    "#     return net, best_rmse"
   ]
  }
 ],
 "metadata": {
  "kernelspec": {
   "display_name": "Python 3 (ipykernel)",
   "language": "python",
   "name": "python3"
  },
  "language_info": {
   "codemirror_mode": {
    "name": "ipython",
    "version": 3
   },
   "file_extension": ".py",
   "mimetype": "text/x-python",
   "name": "python",
   "nbconvert_exporter": "python",
   "pygments_lexer": "ipython3",
   "version": "3.10.10"
  }
 },
 "nbformat": 4,
 "nbformat_minor": 5
}
